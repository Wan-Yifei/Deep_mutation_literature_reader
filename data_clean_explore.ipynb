{
 "cells": [
  {
   "cell_type": "markdown",
   "id": "6a063810",
   "metadata": {},
   "source": [
    "# Clean data\n",
    "\n",
    "Author: Yifei Wan\\\n",
    "E-mail: wanyifei0123@gmail.com\\\n",
    "Clean data for NLP.\n",
    "\n",
    "\n",
    "## Read and explore data\n",
    "### Read and verify signature"
   ]
  },
  {
   "cell_type": "code",
   "execution_count": 1,
   "id": "46d5541f",
   "metadata": {},
   "outputs": [],
   "source": [
    "import pickle\n",
    "from hmac_signature import *"
   ]
  },
  {
   "cell_type": "code",
   "execution_count": 2,
   "id": "09faa52a",
   "metadata": {},
   "outputs": [
    {
     "name": "stdout",
     "output_type": "stream",
     "text": [
      "Dict pmids_title is ready!\n",
      "Dict pmids_abstract is ready!\n"
     ]
    }
   ],
   "source": [
    "input_title = \"data/title_abstract_refs/pmid_title.pickle\"  # title dictionary\n",
    "input_abstract = \"data/title_abstract_refs/pmid_abstract.pickle\"  # abstract dictionary\n",
    "key = \"wanyifei\"\n",
    "\n",
    "with open(input_title, \"rb\") as title:\n",
    "    title_signature_old = title.readline().decode(\"utf-8\")\n",
    "    title_content = b\"\".join(title.readlines())\n",
    "    if verify_hmac_signature(title_content, key, title_signature_old):\n",
    "        pmids_title = pickle.loads(title_content)\n",
    "        print(\"Dict pmids_title is ready!\")\n",
    "        \n",
    "with open(input_abstract, \"rb\") as abstract:\n",
    "    abstract_signature_old = abstract.readline().decode(\"utf-8\")\n",
    "    abstract_content = b\"\".join(abstract.readlines())\n",
    "    if verify_hmac_signature(abstract_content, key, abstract_signature_old):\n",
    "        pmids_abstract = pickle.loads(abstract_content)\n",
    "        print(\"Dict pmids_abstract is ready!\")\n",
    "    \n",
    "    "
   ]
  },
  {
   "cell_type": "markdown",
   "id": "6c2ff9a0",
   "metadata": {},
   "source": [
    "### View title and abstract"
   ]
  },
  {
   "cell_type": "code",
   "execution_count": 3,
   "id": "6fe136c8",
   "metadata": {},
   "outputs": [
    {
     "name": "stdout",
     "output_type": "stream",
     "text": [
      "Preview of title:\n",
      " {'25820570': 'Functional Complementation Assay for 47 MUTYH Variants in a MutY-Disrupted Escherichia coli Strain.', '25330149': 'Mutations predisposing to breast cancer in 12 candidate genes in breast cancer patients from Poland.'}\n",
      "\n",
      "Preview of abstract:\n",
      " {'25820570': 'MUTYH-associated polyposis (MAP) is an adenomatous polyposis transmitted in an autosomal-recessive pattern, involving biallelic inactivation of the MUTYH gene. Loss of a functional MUTYH protein will result in the accumulation of G:T mismatched DNA caused by oxidative damage. Although p.Y179C and p.G396D are the two most prevalent MUTYH variants, more than 200 missense variants have been detected. It is difficult to determine whether these variants are disease-causing mutations or single-nucleotide polymorphisms. To understand the functional consequences of these variants, we generated 47 MUTYH gene variants via site-directed mutagenesis, expressed the encoded proteins in MutY-disrupted Escherichia coli, and assessed their abilities to complement the functional deficiency in the E. coli by monitoring spontaneous mutation rates. Although the majority of variants exhibited intermediate complementation relative to the wild type, some variants severely interfered with this complementation. However, some variants retained functioning similar to the wild type. In silico predictions of functional effects demonstrated a good correlation. Structural prediction of MUTYH based on the MutY protein structure allowed us to interpret effects on the protein stability or catalytic activity. These data will be useful for evaluating the functional consequences of missense MUTYH variants detected in patients with suspected MAP. '}\n",
      "\n"
     ]
    }
   ],
   "source": [
    "print(\"Preview of title:\\n {}\\n\".format(dict(list(pmids_title.items())[0:2])))\n",
    "print(\"Preview of abstract:\\n {}\\n\".format(dict(list(pmids_abstract.items())[0:1])))"
   ]
  },
  {
   "cell_type": "markdown",
   "id": "88f59583",
   "metadata": {},
   "source": [
    "## Capitalization or Lower case"
   ]
  },
  {
   "cell_type": "code",
   "execution_count": 4,
   "id": "0cc7576f",
   "metadata": {},
   "outputs": [
    {
     "name": "stdout",
     "output_type": "stream",
     "text": [
      "Preview of title in lower case:\n",
      " {'25820570': 'functional complementation assay for 47 mutyh variants in a muty-disrupted escherichia coli strain.', '25330149': 'mutations predisposing to breast cancer in 12 candidate genes in breast cancer patients from poland.'}\n",
      "\n",
      "Preview of abstract in lower case:\n",
      " {'25820570': 'mutyh-associated polyposis (map) is an adenomatous polyposis transmitted in an autosomal-recessive pattern, involving biallelic inactivation of the mutyh gene. loss of a functional mutyh protein will result in the accumulation of g:t mismatched dna caused by oxidative damage. although p.y179c and p.g396d are the two most prevalent mutyh variants, more than 200 missense variants have been detected. it is difficult to determine whether these variants are disease-causing mutations or single-nucleotide polymorphisms. to understand the functional consequences of these variants, we generated 47 mutyh gene variants via site-directed mutagenesis, expressed the encoded proteins in muty-disrupted escherichia coli, and assessed their abilities to complement the functional deficiency in the e. coli by monitoring spontaneous mutation rates. although the majority of variants exhibited intermediate complementation relative to the wild type, some variants severely interfered with this complementation. however, some variants retained functioning similar to the wild type. in silico predictions of functional effects demonstrated a good correlation. structural prediction of mutyh based on the muty protein structure allowed us to interpret effects on the protein stability or catalytic activity. these data will be useful for evaluating the functional consequences of missense mutyh variants detected in patients with suspected map. '}\n",
      "\n"
     ]
    }
   ],
   "source": [
    "pmids_title_l = {pmid: title.lower() for pmid, title in pmids_title.items()}\n",
    "pmids_abstract_l = {pmid: abstract.lower() for pmid, abstract in pmids_abstract.items()}\n",
    "\n",
    "print(\"Preview of title in lower case:\\n {}\\n\".format(dict(list(pmids_title_l.items())[0:2])))\n",
    "print(\"Preview of abstract in lower case:\\n {}\\n\".format(dict(list(pmids_abstract_l.items())[0:1])))"
   ]
  },
  {
   "cell_type": "markdown",
   "id": "c3f73615",
   "metadata": {},
   "source": [
    "## Expand the contractions"
   ]
  },
  {
   "cell_type": "code",
   "execution_count": 5,
   "id": "c8712563",
   "metadata": {},
   "outputs": [
    {
     "name": "stdout",
     "output_type": "stream",
     "text": [
      "Example before contraction fix: He doesn't like apple.\n",
      "Example after contraction fix: He does not like apple.\n"
     ]
    }
   ],
   "source": [
    "import contractions\n",
    "\n",
    "example = \"He doesn't like apple.\"\n",
    "print(\"Example before contraction fix: {}\".format(example))\n",
    "print(\"Example after contraction fix: {}\".format(contractions.fix(example)))"
   ]
  },
  {
   "cell_type": "code",
   "execution_count": 6,
   "id": "3dfa1046",
   "metadata": {},
   "outputs": [],
   "source": [
    "pmids_title_lc = {pmid: contractions.fix(title) for pmid, title in pmids_title_l.items()}\n",
    "pmids_abstract_lc = {pmid: contractions.fix(abstract) for pmid, abstract in pmids_abstract_l.items()}"
   ]
  },
  {
   "cell_type": "markdown",
   "id": "7fc6593a",
   "metadata": {},
   "source": [
    "## Noise remove"
   ]
  },
  {
   "cell_type": "code",
   "execution_count": 7,
   "id": "84ae3f79",
   "metadata": {},
   "outputs": [],
   "source": [
    "from data_clean_toolkit import *"
   ]
  },
  {
   "cell_type": "markdown",
   "id": "af528369",
   "metadata": {},
   "source": [
    "### Remove URL"
   ]
  },
  {
   "cell_type": "code",
   "execution_count": 8,
   "id": "2aa402dd",
   "metadata": {},
   "outputs": [
    {
     "name": "stdout",
     "output_type": "stream",
     "text": [
      "Before remove URL:\n",
      " as sequencing becomes more economical, we are identifying sequence variations in the population faster than ever. for disease-associated genes, it is imperative that we differentiate a sequence variant as either benign or pathogenic, such that the appropriate therapeutic interventions or surveillance can be implemented. <i>pten</i> is a frequently mutated tumor suppressor that has been linked to the pten hamartoma tumor syndrome. although the domain structure of pten and the functional impact of a number of its most common tumor-linked mutations have been characterized, there is a lack of information about many recently identified clinical variants. to address this challenge, we developed a cell-based assay that utilizes a premalignant phenotype of normal mammary epithelial cells lacking pten. we measured the ability of pten variants to rescue the spheroid formation phenotype of <i>pten<sup>-/-</sup></i> mcf10a cells maintained in suspension. as proof of concept, we functionalized 47 missense variants using this assay, only 19 of which have clear classifications in clinvar. we utilized a machine learning model trained with annotated genotypic data to classify variants as benign or pathogenic based on our functional scores. our model predicted with high accuracy that loss of pten function was indicative of pathogenicity. we also determined that the pathogenicity of certain variants may have arisen from reduced stability of the protein product. overall, this assay outperformed computational predictions, was scalable, and had a short run time, serving as an ideal alternative for annotating the clinical significance of cancer-associated pten variants. significance: combined three-dimensional tumor spheroid modeling and machine learning classifies <i>pten</i> missense variants, over 70% of which are currently listed as variants of uncertain significance. graphical abstract: http://cancerres.aacrjournals.org/content/canres/80/13/2775/f1.large.jpg.\n",
      "\n",
      "After remove URL:\n",
      " as sequencing becomes more economical, we are identifying sequence variations in the population faster than ever. for disease-associated genes, it is imperative that we differentiate a sequence variant as either benign or pathogenic, such that the appropriate therapeutic interventions or surveillance can be implemented. <i>pten</i> is a frequently mutated tumor suppressor that has been linked to the pten hamartoma tumor syndrome. although the domain structure of pten and the functional impact of a number of its most common tumor-linked mutations have been characterized, there is a lack of information about many recently identified clinical variants. to address this challenge, we developed a cell-based assay that utilizes a premalignant phenotype of normal mammary epithelial cells lacking pten. we measured the ability of pten variants to rescue the spheroid formation phenotype of <i>pten<sup>-/-</sup></i> mcf10a cells maintained in suspension. as proof of concept, we functionalized 47 missense variants using this assay, only 19 of which have clear classifications in clinvar. we utilized a machine learning model trained with annotated genotypic data to classify variants as benign or pathogenic based on our functional scores. our model predicted with high accuracy that loss of pten function was indicative of pathogenicity. we also determined that the pathogenicity of certain variants may have arisen from reduced stability of the protein product. overall, this assay outperformed computational predictions, was scalable, and had a short run time, serving as an ideal alternative for annotating the clinical significance of cancer-associated pten variants. significance: combined three-dimensional tumor spheroid modeling and machine learning classifies <i>pten</i> missense variants, over 70% of which are currently listed as variants of uncertain significance. graphical abstract: \n"
     ]
    }
   ],
   "source": [
    "pmids_title_lcu = {pmid: remove_url(title) for pmid, title in pmids_title_lc.items()}\n",
    "pmids_abstract_lcu = {pmid: remove_url(abstract) for pmid, abstract in pmids_abstract_lc.items()}\n",
    "\n",
    "example_pmid = [pmid for pmid, abstract in pmids_abstract_lc.items() if \"http\" in abstract][0]\n",
    "print(\"Before remove URL:\\n {}\\n\".format(pmids_abstract_lc[example_pmid]))\n",
    "print(\"After remove URL:\\n {}\".format(pmids_abstract_lcu[example_pmid]))"
   ]
  },
  {
   "cell_type": "markdown",
   "id": "c31d7846",
   "metadata": {},
   "source": [
    "### Remove HTML"
   ]
  },
  {
   "cell_type": "code",
   "execution_count": 9,
   "id": "5c7b0a5e",
   "metadata": {},
   "outputs": [
    {
     "name": "stdout",
     "output_type": "stream",
     "text": [
      "28223274\n",
      "Before remove HTML:\n",
      " <b>purpose:</b> maintenance therapy with olaparib has improved progression-free survival in women with high-grade serous ovarian cancer (hgsoc), particularly those harboring <i>brca1/2</i> mutations. the objective of this study was to characterize long-term (lt) versus short-term (st) responders to olaparib.<b>experimental design:</b> a comparative molecular analysis of study 19 (nct00753545), a randomized phase ii trial assessing olaparib maintenance after response to platinum-based chemotherapy in hgsoc, was conducted. lt response was defined as response to olaparib/placebo >2 years, st as <3 months. molecular analyses included germline <i>brca1/2</i> status, three-biomarker homologous recombination deficiency (hrd) score, <i>brca1</i> methylation, and mutational profiling. another olaparib maintenance study (study 41; nct01081951) was used as an additional cohort.<b>results:</b> thirty-seven lt (32 olaparib) and 61 st (21 olaparib) patients were identified. treatment was significantly associated with outcome (<i>p</i> < 0.0001), with more lt patients on olaparib (60.4%) than placebo (11.1%). lt sensitivity to olaparib correlated with complete response to chemotherapy (<i>p</i> < 0.05). in the olaparib lt group, 244 genetic alterations were detected, with <i>tp53, brca1</i>, and <i>brca2</i> mutations being most common (90%, 25%, and 35%, respectively). <i>brca2</i> mutations were enriched among the lt responders. <i>brca</i> methylation was not associated with response duration. high myriad hrd score (>42) and/or <i>brca1/2</i> mutation was associated with lt response to olaparib. study 41 confirmed the correlation of lt response with olaparib and <i>brca1/2</i> mutation.<b>conclusions:</b> findings show that lt response to olaparib may be multifactorial and related to homologous recombination repair deficiency, particularly <i>brca1/2</i> defects. the type of <i>brca1/2</i> mutation warrants further investigation. <i>clin cancer res; 23(15); 4086-94. ©2017 aacr</i>.\n",
      "\n",
      "After remove HTML:\n",
      " purpose: maintenance therapy with olaparib has improved progression-free survival in women with high-grade serous ovarian cancer (hgsoc), particularly those harboring brca1/2 mutations. the objective of this study was to characterize long-term (lt) versus short-term (st) responders to olaparib.experimental design: a comparative molecular analysis of study 19 (nct00753545), a randomized phase ii trial assessing olaparib maintenance after response to platinum-based chemotherapy in hgsoc, was conducted. lt response was defined as response to olaparib/placebo >2 years, st as brca1/2 status, three-biomarker homologous recombination deficiency (hrd) score, brca1 methylation, and mutational profiling. another olaparib maintenance study (study 41; nct01081951) was used as an additional cohort.results: thirty-seven lt (32 olaparib) and 61 st (21 olaparib) patients were identified. treatment was significantly associated with outcome (p p tp53, brca1, and brca2 mutations being most common (90%, 25%, and 35%, respectively). brca2 mutations were enriched among the lt responders. brca methylation was not associated with response duration. high myriad hrd score (>42) and/or brca1/2 mutation was associated with lt response to olaparib. study 41 confirmed the correlation of lt response with olaparib and brca1/2 mutation.conclusions: findings show that lt response to olaparib may be multifactorial and related to homologous recombination repair deficiency, particularly brca1/2 defects. the type of brca1/2 mutation warrants further investigation. clin cancer res; 23(15); 4086-94. ©2017 aacr.\n"
     ]
    }
   ],
   "source": [
    "pmids_title_lcuh = {pmid: remove_html(title) for pmid, title in pmids_title_lcu.items()}\n",
    "pmids_abstract_lcuh = {pmid: remove_html(abstract) for pmid, abstract in pmids_abstract_lcu.items()}\n",
    "\n",
    "html_pattern = re.compile(r\"<.*?>|&([a-z0-9]+|#[0-9]{1,6}|#x[0-9a-f]{1,6});\")\n",
    "example_pmid = [pmid for pmid, abstract in pmids_abstract_lcu.items() if re.match(html_pattern, abstract)][0]\n",
    "print(example_pmid)\n",
    "print(\"Before remove HTML:\\n {}\\n\".format(pmids_abstract_lcu[example_pmid]))\n",
    "print(\"After remove HTML:\\n {}\".format(pmids_abstract_lcuh[example_pmid]))"
   ]
  },
  {
   "cell_type": "markdown",
   "id": "6dddb83e",
   "metadata": {},
   "source": [
    "### Remove special characters\n",
    " Remove special special characters, including symbols, emojis, and other graphic characters."
   ]
  },
  {
   "cell_type": "code",
   "execution_count": 10,
   "id": "3b319379",
   "metadata": {},
   "outputs": [
    {
     "name": "stdout",
     "output_type": "stream",
     "text": [
      "Before remove special characters:\n",
      " purpose: maintenance therapy with olaparib has improved progression-free survival in women with high-grade serous ovarian cancer (hgsoc), particularly those harboring brca1/2 mutations. the objective of this study was to characterize long-term (lt) versus short-term (st) responders to olaparib.experimental design: a comparative molecular analysis of study 19 (nct00753545), a randomized phase ii trial assessing olaparib maintenance after response to platinum-based chemotherapy in hgsoc, was conducted. lt response was defined as response to olaparib/placebo >2 years, st as brca1/2 status, three-biomarker homologous recombination deficiency (hrd) score, brca1 methylation, and mutational profiling. another olaparib maintenance study (study 41; nct01081951) was used as an additional cohort.results: thirty-seven lt (32 olaparib) and 61 st (21 olaparib) patients were identified. treatment was significantly associated with outcome (p p tp53, brca1, and brca2 mutations being most common (90%, 25%, and 35%, respectively). brca2 mutations were enriched among the lt responders. brca methylation was not associated with response duration. high myriad hrd score (>42) and/or brca1/2 mutation was associated with lt response to olaparib. study 41 confirmed the correlation of lt response with olaparib and brca1/2 mutation.conclusions: findings show that lt response to olaparib may be multifactorial and related to homologous recombination repair deficiency, particularly brca1/2 defects. the type of brca1/2 mutation warrants further investigation. clin cancer res; 23(15); 4086-94. ©2017 aacr.\n",
      "\n",
      "After remove special characters:\n",
      " purpose: maintenance therapy with olaparib has improved progression-free survival in women with high-grade serous ovarian cancer (hgsoc), particularly those harboring brca1/2 mutations. the objective of this study was to characterize long-term (lt) versus short-term (st) responders to olaparib.experimental design: a comparative molecular analysis of study 19 (nct00753545), a randomized phase ii trial assessing olaparib maintenance after response to platinum-based chemotherapy in hgsoc, was conducted. lt response was defined as response to olaparib/placebo >2 years, st as brca1/2 status, three-biomarker homologous recombination deficiency (hrd) score, brca1 methylation, and mutational profiling. another olaparib maintenance study (study 41; nct01081951) was used as an additional cohort.results: thirty-seven lt (32 olaparib) and 61 st (21 olaparib) patients were identified. treatment was significantly associated with outcome (p p tp53, brca1, and brca2 mutations being most common (90%, 25%, and 35%, respectively). brca2 mutations were enriched among the lt responders. brca methylation was not associated with response duration. high myriad hrd score (>42) and/or brca1/2 mutation was associated with lt response to olaparib. study 41 confirmed the correlation of lt response with olaparib and brca1/2 mutation.conclusions: findings show that lt response to olaparib may be multifactorial and related to homologous recombination repair deficiency, particularly brca1/2 defects. the type of brca1/2 mutation warrants further investigation. clin cancer res; 23(15); 4086-94. 2017 aacr.\n"
     ]
    }
   ],
   "source": [
    "pmids_title_lcuhs = {pmid: remove_special_characters(title) for pmid, title in pmids_title_lcuh.items()}\n",
    "pmids_abstract_lcuhs = {pmid: remove_special_characters(abstract) for pmid, abstract in pmids_abstract_lcuh.items()}\n",
    "\n",
    "print(\"Before remove special characters:\\n {}\\n\".format(pmids_abstract_lcuh[\"28223274\"]))\n",
    "print(\"After remove special characters:\\n {}\".format(pmids_abstract_lcuhs[\"28223274\"]))"
   ]
  },
  {
   "cell_type": "markdown",
   "id": "5905742e",
   "metadata": {},
   "source": [
    "### Remove punctuations"
   ]
  },
  {
   "cell_type": "code",
   "execution_count": 11,
   "id": "e13c113f",
   "metadata": {},
   "outputs": [
    {
     "name": "stdout",
     "output_type": "stream",
     "text": [
      "Before remove punctuations:\n",
      " purpose: maintenance therapy with olaparib has improved progression-free survival in women with high-grade serous ovarian cancer (hgsoc), particularly those harboring brca1/2 mutations. the objective of this study was to characterize long-term (lt) versus short-term (st) responders to olaparib.experimental design: a comparative molecular analysis of study 19 (nct00753545), a randomized phase ii trial assessing olaparib maintenance after response to platinum-based chemotherapy in hgsoc, was conducted. lt response was defined as response to olaparib/placebo >2 years, st as brca1/2 status, three-biomarker homologous recombination deficiency (hrd) score, brca1 methylation, and mutational profiling. another olaparib maintenance study (study 41; nct01081951) was used as an additional cohort.results: thirty-seven lt (32 olaparib) and 61 st (21 olaparib) patients were identified. treatment was significantly associated with outcome (p p tp53, brca1, and brca2 mutations being most common (90%, 25%, and 35%, respectively). brca2 mutations were enriched among the lt responders. brca methylation was not associated with response duration. high myriad hrd score (>42) and/or brca1/2 mutation was associated with lt response to olaparib. study 41 confirmed the correlation of lt response with olaparib and brca1/2 mutation.conclusions: findings show that lt response to olaparib may be multifactorial and related to homologous recombination repair deficiency, particularly brca1/2 defects. the type of brca1/2 mutation warrants further investigation. clin cancer res; 23(15); 4086-94. 2017 aacr.\n",
      "\n",
      "After remove punctuations:\n",
      " purpose maintenance therapy with olaparib has improved progressionfree survival in women with highgrade serous ovarian cancer hgsoc particularly those harboring brca12 mutations the objective of this study was to characterize longterm lt versus shortterm st responders to olaparibexperimental design a comparative molecular analysis of study 19 nct00753545 a randomized phase ii trial assessing olaparib maintenance after response to platinumbased chemotherapy in hgsoc was conducted lt response was defined as response to olaparibplacebo 2 years st as brca12 status threebiomarker homologous recombination deficiency hrd score brca1 methylation and mutational profiling another olaparib maintenance study study 41 nct01081951 was used as an additional cohortresults thirtyseven lt 32 olaparib and 61 st 21 olaparib patients were identified treatment was significantly associated with outcome p p tp53 brca1 and brca2 mutations being most common 90 25 and 35 respectively brca2 mutations were enriched among the lt responders brca methylation was not associated with response duration high myriad hrd score 42 andor brca12 mutation was associated with lt response to olaparib study 41 confirmed the correlation of lt response with olaparib and brca12 mutationconclusions findings show that lt response to olaparib may be multifactorial and related to homologous recombination repair deficiency particularly brca12 defects the type of brca12 mutation warrants further investigation clin cancer res 2315 408694 2017 aacr\n"
     ]
    }
   ],
   "source": [
    "# Try remove punctuations directly\n",
    "pmids_title_lcuhsp = {pmid: remove_punctuation(title) for pmid, title in pmids_title_lcuhs.items()}\n",
    "pmids_abstract_lcuhsp = {pmid: remove_punctuation(abstract) for pmid, abstract in pmids_abstract_lcuhs.items()}\n",
    "\n",
    "print(\"Before remove punctuations:\\n {}\\n\".format(pmids_abstract_lcuhs[\"28223274\"]))\n",
    "print(\"After remove punctuations:\\n {}\".format(pmids_abstract_lcuhsp[\"28223274\"]))"
   ]
  },
  {
   "cell_type": "markdown",
   "id": "cf7f2857",
   "metadata": {},
   "source": [
    "#### Check varaints"
   ]
  },
  {
   "cell_type": "code",
   "execution_count": 12,
   "id": "62dc289d",
   "metadata": {},
   "outputs": [
    {
     "name": "stdout",
     "output_type": "stream",
     "text": [
      "Test punctuation remover on variant:\n",
      "\n",
      "Variant before remove punctuation: c.188T>C\n",
      "\n",
      "Variant after remove punctuation: c188TC\n",
      "\n"
     ]
    }
   ],
   "source": [
    "variant = \"c.188T>C\"\n",
    "print(\"Test punctuation remover on variant:\\n\")\n",
    "print(\"Variant before remove punctuation: {}\\n\".format(variant))\n",
    "print(\"Variant after remove punctuation: {}\\n\".format(remove_punctuation(variant)))"
   ]
  },
  {
   "cell_type": "markdown",
   "id": "53799838",
   "metadata": {},
   "source": [
    "The regualr punctuation remove methond would remove punctuation from variants. To avoid it, a variant safe approach is necessary."
   ]
  },
  {
   "cell_type": "code",
   "execution_count": 13,
   "id": "3be1c104",
   "metadata": {},
   "outputs": [
    {
     "name": "stdout",
     "output_type": "stream",
     "text": [
      "c.224g>a, p.arg75gln (r75q) presumably leads to an amino-acid change from arginine to glutamine in the membrane-spanning domain of the cftr protein. initially reported as a benign sequence variation, p.arg75gln was shown to be associated with a high risk of pancreatitis, a risk that was strikingly higher when p.arg75gln was combined with a spink1 variant. in addition, it was shown that p.arg75gln alters bicarbonate but not chloride conductance and that the mutation also induces exon 3 skipping. to investigate the role of p.arg75gln in idiopathic chronic pancreatitis (icp), we performed genotyping of the cftr gene in 880 patients with icp, 198 patients with idiopathic bronchiectasis (ib), 74 patients with classical cystic fibrosis (cf), 48 patients with congenital bilateral absence of the vas deferens (cbavd) and 148 healthy controls. p.arg75gln variant was identified in 3.3% (29/880) of patients with icp, 3.3% (9/272) patients with a pulmonary disease, 2.1% (1/48) of patients with cbavd and 4.7% (7/148) of healthy controls. it was frequently associated with the c.[1210-12t[7];1408a>g] (t7-p.val470) allele and this cftr genetic background could not explain the putative pathogenicity of this variant. to assess whether cftr and spink1 mutations are co-inherited in pancreatitis, we sequenced spink1 gene exon 3 in the 46 patients who were previously identified to be heterozygous for p.arg75gln. two spink1 pancreatitis-associated variants, p.asn34ser and p.pro55ser, were found in 6 patients: 4 of 29 (13.8%) patients with icp (3 p.asn34ser and 1 p.pro55ser), 1 of 7 (14.3%) healthy controls (p.asn34ser) and 1 of 9 (11.1%) patients with ib (p.pro55ser). our study does not confirm that the cftr p.arg75gln mutation confers a significant risk of pancreatitis both when considered individually and with a concurrent spink1 mutation, suggesting the role of other genetic and environmental factors.\n",
      "24451227\n"
     ]
    }
   ],
   "source": [
    "# Find a example of variant from text\n",
    "var_pattern = \"[cC]\\.(\\d+|\\*\\d+|-\\d+)([+-]\\d+)?([GCTAgcta])?>([GCTAgcta])\"\n",
    "example_pmid = [pmid for pmid, abstract in pmids_abstract_lcuhs.items() if re.match(var_pattern, abstract)][0]\n",
    "print(pmids_abstract_lcuhs[example_pmid])\n",
    "print(example_pmid)"
   ]
  },
  {
   "cell_type": "code",
   "execution_count": 14,
   "id": "8c7a5dca",
   "metadata": {},
   "outputs": [],
   "source": [
    "#### Map variants to placeholders"
   ]
  },
  {
   "cell_type": "code",
   "execution_count": 16,
   "id": "1e0dc167",
   "metadata": {},
   "outputs": [
    {
     "name": "stdout",
     "output_type": "stream",
     "text": [
      "Try to call tmVar API of PMID: 25820570\n",
      "From URL: https://www.ncbi.nlm.nih.gov/research/pubtator-api/publications/export/biocxml?pmids=25820570&concepts=mutation\n",
      "Call tmVar attempt 1\n",
      "Try to call tmVar API of PMID: 25330149\n",
      "From URL: https://www.ncbi.nlm.nih.gov/research/pubtator-api/publications/export/biocxml?pmids=25330149&concepts=mutation\n",
      "Call tmVar attempt 1\n",
      "Try to call tmVar API of PMID: 29264456\n",
      "From URL: https://www.ncbi.nlm.nih.gov/research/pubtator-api/publications/export/biocxml?pmids=29264456&concepts=mutation\n",
      "Call tmVar attempt 1\n",
      "Try to call tmVar API of PMID: 16140997\n",
      "From URL: https://www.ncbi.nlm.nih.gov/research/pubtator-api/publications/export/biocxml?pmids=16140997&concepts=mutation\n",
      "Call tmVar attempt 1\n",
      "Try to call tmVar API of PMID: 24733792\n",
      "From URL: https://www.ncbi.nlm.nih.gov/research/pubtator-api/publications/export/biocxml?pmids=24733792&concepts=mutation\n",
      "Call tmVar attempt 1\n",
      "Try to call tmVar API of PMID: 26719302\n",
      "From URL: https://www.ncbi.nlm.nih.gov/research/pubtator-api/publications/export/biocxml?pmids=26719302&concepts=mutation\n",
      "Call tmVar attempt 1\n",
      "Try to call tmVar API of PMID: 9239681\n",
      "From URL: https://www.ncbi.nlm.nih.gov/research/pubtator-api/publications/export/biocxml?pmids=9239681&concepts=mutation\n",
      "Call tmVar attempt 1\n",
      "Try to call tmVar API of PMID: 29088781\n",
      "From URL: https://www.ncbi.nlm.nih.gov/research/pubtator-api/publications/export/biocxml?pmids=29088781&concepts=mutation\n",
      "Call tmVar attempt 1\n",
      "Try to call tmVar API of PMID: 27379089\n",
      "From URL: https://www.ncbi.nlm.nih.gov/research/pubtator-api/publications/export/biocxml?pmids=27379089&concepts=mutation\n",
      "Call tmVar attempt 1\n",
      "Try to call tmVar API of PMID: 18484200\n",
      "From URL: https://www.ncbi.nlm.nih.gov/research/pubtator-api/publications/export/biocxml?pmids=18484200&concepts=mutation\n",
      "Call tmVar attempt 1\n",
      "Try to call tmVar API of PMID: 25820570\n",
      "From URL: https://www.ncbi.nlm.nih.gov/research/pubtator-api/publications/export/biocxml?pmids=25820570&concepts=mutation\n",
      "Call tmVar attempt 1\n",
      "Try to call tmVar API of PMID: 25330149\n",
      "From URL: https://www.ncbi.nlm.nih.gov/research/pubtator-api/publications/export/biocxml?pmids=25330149&concepts=mutation\n",
      "Call tmVar attempt 1\n",
      "Try to call tmVar API of PMID: 29264456\n",
      "From URL: https://www.ncbi.nlm.nih.gov/research/pubtator-api/publications/export/biocxml?pmids=29264456&concepts=mutation\n",
      "Call tmVar attempt 1\n",
      "Try to call tmVar API of PMID: 16140997\n",
      "From URL: https://www.ncbi.nlm.nih.gov/research/pubtator-api/publications/export/biocxml?pmids=16140997&concepts=mutation\n",
      "Call tmVar attempt 1\n",
      "Try to call tmVar API of PMID: 24733792\n",
      "From URL: https://www.ncbi.nlm.nih.gov/research/pubtator-api/publications/export/biocxml?pmids=24733792&concepts=mutation\n",
      "Call tmVar attempt 1\n",
      "Try to call tmVar API of PMID: 26719302\n",
      "From URL: https://www.ncbi.nlm.nih.gov/research/pubtator-api/publications/export/biocxml?pmids=26719302&concepts=mutation\n",
      "Call tmVar attempt 1\n",
      "Try to call tmVar API of PMID: 9239681\n",
      "From URL: https://www.ncbi.nlm.nih.gov/research/pubtator-api/publications/export/biocxml?pmids=9239681&concepts=mutation\n",
      "Call tmVar attempt 1\n",
      "Try to call tmVar API of PMID: 29088781\n",
      "From URL: https://www.ncbi.nlm.nih.gov/research/pubtator-api/publications/export/biocxml?pmids=29088781&concepts=mutation\n",
      "Call tmVar attempt 1\n",
      "Try to call tmVar API of PMID: 27379089\n",
      "From URL: https://www.ncbi.nlm.nih.gov/research/pubtator-api/publications/export/biocxml?pmids=27379089&concepts=mutation\n",
      "Call tmVar attempt 1\n",
      "Try to call tmVar API of PMID: 18484200\n",
      "From URL: https://www.ncbi.nlm.nih.gov/research/pubtator-api/publications/export/biocxml?pmids=18484200&concepts=mutation\n",
      "Call tmVar attempt 1\n",
      "Before map variants: \n",
      "['mutyh-associated polyposis (map) is an adenomatous polyposis transmitted in an autosomal-recessive pattern, involving biallelic inactivation of the mutyh gene. loss of a functional mutyh protein will result in the accumulation of g:t mismatched dna caused by oxidative damage. although p.y179c and p.g396d are the two most prevalent mutyh variants, more than 200 missense variants have been detected. it is difficult to determine whether these variants are disease-causing mutations or single-nucleotide polymorphisms. to understand the functional consequences of these variants, we generated 47 mutyh gene variants via site-directed mutagenesis, expressed the encoded proteins in muty-disrupted escherichia coli, and assessed their abilities to complement the functional deficiency in the e. coli by monitoring spontaneous mutation rates. although the majority of variants exhibited intermediate complementation relative to the wild type, some variants severely interfered with this complementation. however, some variants retained functioning similar to the wild type. in silico predictions of functional effects demonstrated a good correlation. structural prediction of mutyh based on the muty protein structure allowed us to interpret effects on the protein stability or catalytic activity. these data will be useful for evaluating the functional consequences of missense mutyh variants detected in patients with suspected map. ']\n",
      "\n",
      "After map variants: \n",
      "['mutyh-associated polyposis (map) is an adenomatous polyposis transmitted in an autosomal-recessive pattern, involving biallelic inactivation of the mutyh gene. loss of a functional mutyh protein will result in the accumulation of g:t mismatched dna caused by oxidative damage. although placeholder0 and placeholder1 are the two most prevalent mutyh variants, more than 200 missense variants have been detected. it is difficult to determine whether these variants are disease-causing mutations or single-nucleotide polymorphisms. to understand the functional consequences of these variants, we generated 47 mutyh gene variants via site-directed mutagenesis, expressed the encoded proteins in muty-disrupted escherichia coli, and assessed their abilities to complement the functional deficiency in the e. coli by monitoring spontaneous mutation rates. although the majority of variants exhibited intermediate complementation relative to the wild type, some variants severely interfered with this complementation. however, some variants retained functioning similar to the wild type. in silico predictions of functional effects demonstrated a good correlation. structural prediction of mutyh based on the muty protein structure allowed us to interpret effects on the protein stability or catalytic activity. these data will be useful for evaluating the functional consequences of missense mutyh variants detected in patients with suspected map. ']\n"
     ]
    }
   ],
   "source": [
    "import more_itertools\n",
    "from hgvs_variants_capture import *\n",
    "from tmVar_rest_client import *\n",
    "\n",
    "\n",
    "# define a variants to placeholder function\n",
    "def map_var_placeholder(pmid, text, vartype):\n",
    "    # tmVar method\n",
    "    soup = tmvar_rest_api(pmid, \"mutation\")\n",
    "    tmvar_ner = retrieve_variant_entity(soup)\n",
    "    tmvar_entities = get_variant_entity_tmvar(text, tmvar_ner)\n",
    "    key_2_placeholder_init = {}\n",
    "    key_2_placeholder_tmvar = build_var_temp_encoding(tmvar_entities, key_2_placeholder_init, notice=False)\n",
    "    tmvar_text = replace_var_2_temp_encoding(key_2_placeholder_tmvar, text, notice=False)\n",
    "    # conventional regex method\n",
    "    regex_entities = recognize_variant_entity(vartype, tmvar_text)  # conventional regex NER\n",
    "    key_2_placeholder = build_var_temp_encoding(regex_entities, key_2_placeholder_tmvar)\n",
    "    new_text = replace_var_2_temp_encoding(key_2_placeholder, tmvar_text)\n",
    "    return new_text\n",
    "\n",
    "# map first 10 variants to placeholders\n",
    "vartype = \"dna\"\n",
    "pmids_title_lcuhsv = {pmid: map_var_placeholder(pmid, title, vartype) for pmid, title in more_itertools.take(10, pmids_title_lcuhs.items())}\n",
    "pmids_abstract_lcuhsv = {pmid: map_var_placeholder(pmid, abstract, vartype) for pmid, abstract in more_itertools.take(10, pmids_abstract_lcuhs.items())}\n",
    "\n",
    "print(\"Before map variants: \\n{}\".format(more_itertools.take(1, pmids_abstract_lcuhs.values())))\n",
    "print(\"\\nAfter map variants: \\n{}\".format(more_itertools.take(1, pmids_abstract_lcuhsv.values())))"
   ]
  },
  {
   "cell_type": "markdown",
   "id": "0e0d8839",
   "metadata": {},
   "source": [
    "Seems most variants are mapped good."
   ]
  },
  {
   "cell_type": "code",
   "execution_count": 17,
   "id": "e915c91e",
   "metadata": {},
   "outputs": [],
   "source": [
    "# Remove punctuation after map\n",
    "def variant_safe_punctuation_remover(pmid, text, vartype):\n",
    "    # tmVar method\n",
    "    soup = tmvar_rest_api(pmid, \"mutation\")\n",
    "    tmvar_ner = retrieve_variant_entity(soup)\n",
    "    tmvar_entities = get_variant_entity_tmvar(text, tmvar_ner)\n",
    "    key_2_placeholder_init = {}  # initialize a dict as the parameter of build_var_temp_encoding function\n",
    "    key_2_placeholder_tmvar = build_var_temp_encoding(tmvar_entities, key_2_placeholder_init, notice=False)\n",
    "    tmvar_text = replace_var_2_temp_encoding(key_2_placeholder_tmvar, text, notice=True)\n",
    "    # conventional regex method\n",
    "    regex_entities = recognize_variant_entity(vartype, tmvar_text)  # conventional regex NER\n",
    "    key_2_placeholder = build_var_temp_encoding(regex_entities, key_2_placeholder_tmvar)\n",
    "    new_text = replace_var_2_temp_encoding(key_2_placeholder, tmvar_text)\n",
    "    new_text = remove_punctuation(new_text)\n",
    "    new_text = replace_temp_encoding_2_var(key_2_placeholder, new_text, notice=False)\n",
    "    return new_text"
   ]
  },
  {
   "cell_type": "code",
   "execution_count": 18,
   "id": "34f1f9a6",
   "metadata": {},
   "outputs": [
    {
     "name": "stdout",
     "output_type": "stream",
     "text": [
      "Try to call tmVar API of PMID: 25820570\n",
      "From URL: https://www.ncbi.nlm.nih.gov/research/pubtator-api/publications/export/biocxml?pmids=25820570&concepts=mutation\n",
      "Call tmVar attempt 1\n",
      "Try to call tmVar API of PMID: 25820570\n",
      "From URL: https://www.ncbi.nlm.nih.gov/research/pubtator-api/publications/export/biocxml?pmids=25820570&concepts=mutation\n",
      "Call tmVar attempt 1\n",
      "========================================\n",
      "Variant: p.y179c\n",
      "Placeholder: placeholder0\n",
      "\n",
      "Original text:\n",
      "mutyh-associated polyposis (map) is an adenomatous polyposis transmitted in an autosomal-recessive pattern, involving biallelic inactivation of the mutyh gene. loss of a functional mutyh protein will result in the accumulation of g:t mismatched dna caused by oxidative damage. although p.y179c and p.g396d are the two most prevalent mutyh variants, more than 200 missense variants have been detected. it is difficult to determine whether these variants are disease-causing mutations or single-nucleotide polymorphisms. to understand the functional consequences of these variants, we generated 47 mutyh gene variants via site-directed mutagenesis, expressed the encoded proteins in muty-disrupted escherichia coli, and assessed their abilities to complement the functional deficiency in the e. coli by monitoring spontaneous mutation rates. although the majority of variants exhibited intermediate complementation relative to the wild type, some variants severely interfered with this complementation. however, some variants retained functioning similar to the wild type. in silico predictions of functional effects demonstrated a good correlation. structural prediction of mutyh based on the muty protein structure allowed us to interpret effects on the protein stability or catalytic activity. these data will be useful for evaluating the functional consequences of missense mutyh variants detected in patients with suspected map. \n",
      "\n",
      "Updated text:\n",
      "mutyh-associated polyposis (map) is an adenomatous polyposis transmitted in an autosomal-recessive pattern, involving biallelic inactivation of the mutyh gene. loss of a functional mutyh protein will result in the accumulation of g:t mismatched dna caused by oxidative damage. although placeholder0 and p.g396d are the two most prevalent mutyh variants, more than 200 missense variants have been detected. it is difficult to determine whether these variants are disease-causing mutations or single-nucleotide polymorphisms. to understand the functional consequences of these variants, we generated 47 mutyh gene variants via site-directed mutagenesis, expressed the encoded proteins in muty-disrupted escherichia coli, and assessed their abilities to complement the functional deficiency in the e. coli by monitoring spontaneous mutation rates. although the majority of variants exhibited intermediate complementation relative to the wild type, some variants severely interfered with this complementation. however, some variants retained functioning similar to the wild type. in silico predictions of functional effects demonstrated a good correlation. structural prediction of mutyh based on the muty protein structure allowed us to interpret effects on the protein stability or catalytic activity. these data will be useful for evaluating the functional consequences of missense mutyh variants detected in patients with suspected map. \n",
      "\n",
      "========================================\n",
      "Variant: p.g396d\n",
      "Placeholder: placeholder1\n",
      "\n",
      "Original text:\n",
      "mutyh-associated polyposis (map) is an adenomatous polyposis transmitted in an autosomal-recessive pattern, involving biallelic inactivation of the mutyh gene. loss of a functional mutyh protein will result in the accumulation of g:t mismatched dna caused by oxidative damage. although placeholder0 and p.g396d are the two most prevalent mutyh variants, more than 200 missense variants have been detected. it is difficult to determine whether these variants are disease-causing mutations or single-nucleotide polymorphisms. to understand the functional consequences of these variants, we generated 47 mutyh gene variants via site-directed mutagenesis, expressed the encoded proteins in muty-disrupted escherichia coli, and assessed their abilities to complement the functional deficiency in the e. coli by monitoring spontaneous mutation rates. although the majority of variants exhibited intermediate complementation relative to the wild type, some variants severely interfered with this complementation. however, some variants retained functioning similar to the wild type. in silico predictions of functional effects demonstrated a good correlation. structural prediction of mutyh based on the muty protein structure allowed us to interpret effects on the protein stability or catalytic activity. these data will be useful for evaluating the functional consequences of missense mutyh variants detected in patients with suspected map. \n",
      "\n",
      "Updated text:\n",
      "mutyh-associated polyposis (map) is an adenomatous polyposis transmitted in an autosomal-recessive pattern, involving biallelic inactivation of the mutyh gene. loss of a functional mutyh protein will result in the accumulation of g:t mismatched dna caused by oxidative damage. although placeholder0 and placeholder1 are the two most prevalent mutyh variants, more than 200 missense variants have been detected. it is difficult to determine whether these variants are disease-causing mutations or single-nucleotide polymorphisms. to understand the functional consequences of these variants, we generated 47 mutyh gene variants via site-directed mutagenesis, expressed the encoded proteins in muty-disrupted escherichia coli, and assessed their abilities to complement the functional deficiency in the e. coli by monitoring spontaneous mutation rates. although the majority of variants exhibited intermediate complementation relative to the wild type, some variants severely interfered with this complementation. however, some variants retained functioning similar to the wild type. in silico predictions of functional effects demonstrated a good correlation. structural prediction of mutyh based on the muty protein structure allowed us to interpret effects on the protein stability or catalytic activity. these data will be useful for evaluating the functional consequences of missense mutyh variants detected in patients with suspected map. \n",
      "\n"
     ]
    }
   ],
   "source": [
    "# Use first 1 pmid as test\n",
    "pmids_title_lcuhsv = {pmid: variant_safe_punctuation_remover(pmid, title, vartype) for pmid, title in more_itertools.take(1, pmids_title_lcuhs.items())}\n",
    "pmids_abstract_lcuhsv = {pmid: variant_safe_punctuation_remover(pmid, abstract, vartype) for pmid, abstract in more_itertools.take(1, pmids_abstract_lcuhs.items())}"
   ]
  },
  {
   "cell_type": "code",
   "execution_count": 20,
   "id": "2c53e9de",
   "metadata": {},
   "outputs": [
    {
     "name": "stdout",
     "output_type": "stream",
     "text": [
      "Before remove punctuation: \n",
      "['mutyh-associated polyposis (map) is an adenomatous polyposis transmitted in an autosomal-recessive pattern, involving biallelic inactivation of the mutyh gene. loss of a functional mutyh protein will result in the accumulation of g:t mismatched dna caused by oxidative damage. although p.y179c and p.g396d are the two most prevalent mutyh variants, more than 200 missense variants have been detected. it is difficult to determine whether these variants are disease-causing mutations or single-nucleotide polymorphisms. to understand the functional consequences of these variants, we generated 47 mutyh gene variants via site-directed mutagenesis, expressed the encoded proteins in muty-disrupted escherichia coli, and assessed their abilities to complement the functional deficiency in the e. coli by monitoring spontaneous mutation rates. although the majority of variants exhibited intermediate complementation relative to the wild type, some variants severely interfered with this complementation. however, some variants retained functioning similar to the wild type. in silico predictions of functional effects demonstrated a good correlation. structural prediction of mutyh based on the muty protein structure allowed us to interpret effects on the protein stability or catalytic activity. these data will be useful for evaluating the functional consequences of missense mutyh variants detected in patients with suspected map. ']\n",
      "\n",
      "After remove punctuation: \n",
      "['mutyhassociated polyposis map is an adenomatous polyposis transmitted in an autosomalrecessive pattern involving biallelic inactivation of the mutyh gene loss of a functional mutyh protein will result in the accumulation of gt mismatched dna caused by oxidative damage although p.y179c and p.g396d are the two most prevalent mutyh variants more than 200 missense variants have been detected it is difficult to determine whether these variants are diseasecausing mutations or singlenucleotide polymorphisms to understand the functional consequences of these variants we generated 47 mutyh gene variants via sitedirected mutagenesis expressed the encoded proteins in mutydisrupted escherichia coli and assessed their abilities to complement the functional deficiency in the e coli by monitoring spontaneous mutation rates although the majority of variants exhibited intermediate complementation relative to the wild type some variants severely interfered with this complementation however some variants retained functioning similar to the wild type in silico predictions of functional effects demonstrated a good correlation structural prediction of mutyh based on the muty protein structure allowed us to interpret effects on the protein stability or catalytic activity these data will be useful for evaluating the functional consequences of missense mutyh variants detected in patients with suspected map ']\n"
     ]
    }
   ],
   "source": [
    "print(\"Before remove punctuation: \\n{}\".format(more_itertools.take(1, pmids_abstract_lcuhs.values())))\n",
    "print(\"\\nAfter remove punctuation: \\n{}\".format(more_itertools.take(1, pmids_abstract_lcuhsv.values())))"
   ]
  },
  {
   "cell_type": "code",
   "execution_count": null,
   "id": "040e7f45",
   "metadata": {},
   "outputs": [],
   "source": []
  }
 ],
 "metadata": {
  "kernelspec": {
   "display_name": "Python 3 (ipykernel)",
   "language": "python",
   "name": "python3"
  },
  "language_info": {
   "codemirror_mode": {
    "name": "ipython",
    "version": 3
   },
   "file_extension": ".py",
   "mimetype": "text/x-python",
   "name": "python",
   "nbconvert_exporter": "python",
   "pygments_lexer": "ipython3",
   "version": "3.8.10"
  }
 },
 "nbformat": 4,
 "nbformat_minor": 5
}
